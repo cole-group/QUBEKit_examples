{
 "cells": [
  {
   "cell_type": "markdown",
   "metadata": {},
   "source": [
    "# Simulating with the QUBE FF"
   ]
  },
  {
   "cell_type": "markdown",
   "metadata": {},
   "source": [
    "Now that we have prepared a QUBE input pdb and force field xml file we can simulate the system using OpenMM. However, there are some things we have to do when using OpenMM and QUBE to make sure it runs correctly. \n",
    "\n",
    "Firstly, depending on the size of the system you may get a recursion limit exceeded error when you try to apply the force field to the system, this can be overcome by manually setting a limit higher than the number of atoms in the protein. To do this just import the setrecursionlimit function from sys.\n",
    "\n",
    "Here we will set up a simulation of the capped LEU residue which should not produce this error and we will use a function from QUBEKit to apply the opls geometric combination rules."
   ]
  },
  {
   "cell_type": "code",
   "execution_count": null,
   "metadata": {},
   "outputs": [],
   "source": [
    "# standard OpenMM imports\n",
    "from simtk.openmm import app\n",
    "import simtk.openmm as mm\n",
    "from simtk import unit\n",
    "\n",
    "# load the initial coords into the system using the special QUBE_pro.pdb file\n",
    "pdb = app.PDBFile('QUBE_pro.pdb')\n",
    "\n",
    "# now load in the QUBE_pro.xml force field file and the selected water model \n",
    "forcefield = app.ForceField('QUBE_pro.xml', 'QUBE_tip4p-d.xml')\n",
    "# set the intial positions from the pdb\n",
    "modeller = app.Modeller(pdb.topology, pdb.positions)\n",
    "\n",
    "# now we want to solvate the system, here we use the tip4pew model when placing waters\n",
    "# this makes sure the internal geometry of each water molecule is correct\n",
    "# we also use neutralize False as we do not have an ion model for the QUBE FF\n",
    "modeller.addSolvent(forcefield, model='tip4pew', padding=1 * unit.nanometers, neutralize=False)\n",
    "\n",
    "# now we can write out a solvated file to make sure it looks as we expect\n",
    "app.PDBFile.writeFile(modeller.topology, modeller.positions, open('output.pdb', 'w+'))"
   ]
  },
  {
   "cell_type": "markdown",
   "metadata": {},
   "source": [
    "Now lets view the file to make sure it looks right using nglview."
   ]
  },
  {
   "cell_type": "code",
   "execution_count": null,
   "metadata": {},
   "outputs": [],
   "source": [
    "import nglview as nv\n",
    "import pytraj as pt\n",
    "from IPython.display import display\n",
    "\n",
    "traj = pt.load('output.pdb')\n",
    "view = nv.show_pytraj(traj)\n",
    "view.add_representation('line', selection='HOH')\n",
    "view"
   ]
  },
  {
   "cell_type": "markdown",
   "metadata": {},
   "source": [
    "Next we will create the OpenMM system objects and add the opls combination rule."
   ]
  },
  {
   "cell_type": "code",
   "execution_count": null,
   "metadata": {},
   "outputs": [],
   "source": [
    "# now we create the system make sure to use rigidWater for certain models.\n",
    "system = forcefield.createSystem(modeller.topology, nonbondedMethod=app.PME, constraints=app.HBonds, nonbondedCutoff=1 * unit.nanometer)\n",
    "\n",
    "# now we can import the opls helper from QUBEKit\n",
    "from QUBEKit.proteinTools import apply_opls_combo\n",
    "\n",
    "system = apply_opls_combo(system, switching_distance=0.95 * unit.nanometer)\n",
    "\n",
    "# set control parameters\n",
    "temperature = 298.15 * unit.kelvin\n",
    "integrator = mm.LangevinIntegrator(temperature, 5 / unit.picoseconds, 0.001 * unit.picoseconds)\n",
    "\n",
    "# add preasure to the system\n",
    "system.addForce(mm.MonteCarloBarostat(1 * unit.bar, 298.15 * unit.kelvin))\n",
    "\n",
    "# create the simulation context\n",
    "simulation = app.Simulation(modeller.topology, system, integrator)\n",
    "\n",
    "# set the positions to the solvated system\n",
    "simulation.context.setPositions(modeller.positions)\n"
   ]
  },
  {
   "cell_type": "markdown",
   "metadata": {},
   "source": [
    "The system is now ready to be run."
   ]
  },
  {
   "cell_type": "code",
   "execution_count": null,
   "metadata": {},
   "outputs": [],
   "source": [
    "# now minimize the system\n",
    "print('Minimizing...')\n",
    "simulation.minimizeEnergy(maxIterations=100)\n",
    "\n",
    "# set temperatures\n",
    "simulation.context.setVelocitiesToTemperature(300 * unit.kelvin)\n",
    "print('Equilibrating...')\n",
    "simulation.step(100)\n",
    "\n",
    "# now run the simulation\n",
    "simulation.reporters.append(app.PDBReporter('run.pdb', 1000))\n",
    "simulation.reporters.append(app.StateDataReporter('run.txt', 1000, step=True, potentialEnergy=True, temperature=True))\n",
    "print('Production run...')\n",
    "simulation.step(100000)\n",
    "print('Done!')"
   ]
  },
  {
   "cell_type": "markdown",
   "metadata": {},
   "source": [
    "Once the simulation is complete we can load the results using nglview and pytraj once again."
   ]
  },
  {
   "cell_type": "code",
   "execution_count": null,
   "metadata": {},
   "outputs": [],
   "source": [
    "traj = pt.load('run.pdb')\n",
    "view = nv.show_pytraj(traj)\n",
    "view.add_representation('line', selection='HOH')\n",
    "view"
   ]
  },
  {
   "cell_type": "markdown",
   "metadata": {},
   "source": [
    "# Convert"
   ]
  },
  {
   "cell_type": "markdown",
   "metadata": {},
   "source": [
    "If we look at the pdb file produced by the simulation run we can see that the atom names and residue names are still in the QUBE style which can make post anylsis hard. QUBEKit comes with a function that can back transform the pdb file into a more sutible format."
   ]
  },
  {
   "cell_type": "code",
   "execution_count": null,
   "metadata": {},
   "outputs": [],
   "source": [
    "# lets check the OpenMM output\n",
    "pdb = open('run.pdb', 'r').readlines()\n",
    "pdb"
   ]
  },
  {
   "cell_type": "code",
   "execution_count": null,
   "metadata": {},
   "outputs": [],
   "source": [
    "from QUBEKit.proteinTools import pdb_reformat\n",
    "# pdb reformat takes a reference pdb and a conversion target\n",
    "reference = 'capped.pdb'  # orginal input file\n",
    "target = 'run.pdb'        # the OpenMM output file\n",
    "pdb_reformat(reference, target)"
   ]
  },
  {
   "cell_type": "code",
   "execution_count": null,
   "metadata": {},
   "outputs": [],
   "source": [
    "# Lets cehck the new output file QUBE_traj.pdb\n",
    "qube = open('QUBE_traj.pdb', 'r').readlines()\n",
    "qube\n"
   ]
  },
  {
   "cell_type": "code",
   "execution_count": null,
   "metadata": {},
   "outputs": [],
   "source": [
    "traj = pt.load('QUBE_traj.pdb')\n",
    "view = nv.show_pytraj(traj)\n",
    "view.add_representation('licorice', selection='QUP')\n",
    "view.add_representation('line', selection='HOH')\n",
    "\n",
    "view"
   ]
  },
  {
   "cell_type": "code",
   "execution_count": null,
   "metadata": {},
   "outputs": [],
   "source": []
  }
 ],
 "metadata": {
  "kernelspec": {
   "display_name": "Python 3",
   "language": "python",
   "name": "python3"
  },
  "language_info": {
   "codemirror_mode": {
    "name": "ipython",
    "version": 3
   },
   "file_extension": ".py",
   "mimetype": "text/x-python",
   "name": "python",
   "nbconvert_exporter": "python",
   "pygments_lexer": "ipython3",
   "version": "3.6.8"
  }
 },
 "nbformat": 4,
 "nbformat_minor": 2
}
