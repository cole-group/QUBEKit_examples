{
 "cells": [
  {
   "cell_type": "markdown",
   "metadata": {},
   "source": [
    "# QUBEKit setup"
   ]
  },
  {
   "cell_type": "markdown",
   "metadata": {},
   "source": [
    "This notebook will help with preparing a file for a onetep nonbonded calculation by transforming the prepared protein to a xyz file. The protein should of been prepared using AMBERTools as QUBEKit templates follow the same format as AMBER."
   ]
  },
  {
   "cell_type": "code",
   "execution_count": null,
   "metadata": {},
   "outputs": [],
   "source": [
    "from os import system, listdir\n",
    "\n",
    "# run the QUBEKit commands\n",
    "system(\"QUBEKit-pro --setup capped.pdb\")\n",
    "# make sure the file has been created\n",
    "listdir('.')"
   ]
  },
  {
   "cell_type": "code",
   "execution_count": null,
   "metadata": {},
   "outputs": [],
   "source": [
    "# we can see the protein.xyz file has been made \n",
    "# in future we will also print the box vectors for the onetep calculation\n",
    "\n",
    "# now check the output file \n",
    "xyz = open('protein.xyz', 'r').readlines()\n",
    "xyz"
   ]
  },
  {
   "cell_type": "markdown",
   "metadata": {},
   "source": [
    "Now run this xyz file in onetep remebering to change the charge, cell size, box lengths and psinc in the run_onetep file."
   ]
  },
  {
   "cell_type": "code",
   "execution_count": null,
   "metadata": {},
   "outputs": [],
   "source": []
  }
 ],
 "metadata": {
  "kernelspec": {
   "display_name": "Python 3",
   "language": "python",
   "name": "python3"
  },
  "language_info": {
   "codemirror_mode": {
    "name": "ipython",
    "version": 3
   },
   "file_extension": ".py",
   "mimetype": "text/x-python",
   "name": "python",
   "nbconvert_exporter": "python",
   "pygments_lexer": "ipython3",
   "version": "3.6.8"
  }
 },
 "nbformat": 4,
 "nbformat_minor": 2
}
