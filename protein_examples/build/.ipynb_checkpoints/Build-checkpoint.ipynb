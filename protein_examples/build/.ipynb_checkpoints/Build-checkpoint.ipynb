{
 "cells": [
  {
   "cell_type": "markdown",
   "metadata": {},
   "source": [
    "# Bulding the QUBE FF"
   ]
  },
  {
   "cell_type": "markdown",
   "metadata": {},
   "source": [
    "The following describes how you should build the QUBE FF from a onetep results file and the original AMBER prepared pdb file."
   ]
  },
  {
   "cell_type": "code",
   "execution_count": null,
   "metadata": {},
   "outputs": [],
   "source": [
    "from os import system, listdir\n",
    "\n",
    "# call QUBEKit from the command line with the build option \n",
    "# this makes a new pdb and xml force field file for the system\n",
    "system(\"QUBEKit-pro --build capped.pdb\")\n",
    "listdir('.')"
   ]
  },
  {
   "cell_type": "code",
   "execution_count": null,
   "metadata": {},
   "outputs": [],
   "source": [
    "# lets look at the new pdb \n",
    "pdb = open('QUBE_pro.pdb', 'r').readlines()\n",
    "pdb"
   ]
  },
  {
   "cell_type": "markdown",
   "metadata": {},
   "source": [
    "As you can see the residue names and atom names have all been replaced. This is due to the way we have implemented the protein force field into OpenMM. To get unique atom parameters for every atom they all need to have unquie names and have been renamed accordingly. The protein is also modeled as one large system hence the residue names have all been replaced. This should not affect a simulation though."
   ]
  },
  {
   "cell_type": "code",
   "execution_count": null,
   "metadata": {},
   "outputs": [],
   "source": [
    "# now lets look at the xml file \n",
    "xml = open('QUBE_pro.xml', 'r').readlines()\n",
    "xml"
   ]
  },
  {
   "cell_type": "markdown",
   "metadata": {},
   "source": [
    "The xml is formated a OpenMM force field but just containing one large residue which is now the protein, we can also see at the bottom in the charge section that polar hydrogens (atoms QUBE_7, QUBE_26) have been acounted for and symmetry has been applied to the charges and LJ terms or all hydrogens in free to rotate methyl and amide groups."
   ]
  },
  {
   "cell_type": "markdown",
   "metadata": {},
   "source": [
    "# Water"
   ]
  },
  {
   "cell_type": "markdown",
   "metadata": {},
   "source": [
    "The QUBE force field uses geometric combination rules and so we must use different water models to what is provided by OpenMM. These are easily obtained from QUBEKit using the --water command. Below is a list of the available water models in QUBEKit so far:\n",
    "\n",
    "OpenMM standard models:\n",
    "\n",
    "tip3p\n",
    "\n",
    "tip4pew\n",
    "\n",
    "tip5p\n",
    "\n",
    "spce\n",
    "\n",
    "Forcebalance models:\n",
    "\n",
    "tip3pfb\n",
    "\n",
    "tip4pfb\n",
    "\n",
    "Extras:\n",
    "\n",
    "tip4p-d\n",
    "\n",
    "opc\n"
   ]
  },
  {
   "cell_type": "code",
   "execution_count": null,
   "metadata": {},
   "outputs": [],
   "source": [
    "# Create a water file to use in the simulation, here we have chossen tip4p-d\n",
    "system(\"QUBEKit-pro --water tip4p-d\")\n",
    "# now we can see that the QUBE_tip4p-d.xml file has been made\n",
    "listdir('.')"
   ]
  },
  {
   "cell_type": "code",
   "execution_count": null,
   "metadata": {},
   "outputs": [],
   "source": []
  }
 ],
 "metadata": {
  "kernelspec": {
   "display_name": "Python 3",
   "language": "python",
   "name": "python3"
  },
  "language_info": {
   "codemirror_mode": {
    "name": "ipython",
    "version": 3
   },
   "file_extension": ".py",
   "mimetype": "text/x-python",
   "name": "python",
   "nbconvert_exporter": "python",
   "pygments_lexer": "ipython3",
   "version": "3.6.8"
  }
 },
 "nbformat": 4,
 "nbformat_minor": 2
}
